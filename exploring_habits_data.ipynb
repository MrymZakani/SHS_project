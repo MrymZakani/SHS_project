{
 "cells": [
  {
   "cell_type": "code",
   "execution_count": 27,
   "metadata": {},
   "outputs": [],
   "source": [
    "import pandas as pd\n",
    "import numpy as np\n",
    "import matplotlib.pyplot as plt\n",
    "import matplotlib.patches as mpatches"
   ]
  },
  {
   "cell_type": "markdown",
   "metadata": {},
   "source": [
    "# Explore the data\n"
   ]
  },
  {
   "cell_type": "code",
   "execution_count": 2,
   "metadata": {},
   "outputs": [],
   "source": [
    "DATA_FOLDER = 'habits/'\n",
    "answers_file = \"questionnaire_answers.csv\"\n",
    "questions_file = 'questions_table.csv'\n",
    "\n",
    "questionnaire_answers= pd.read_csv(DATA_FOLDER + answers_file, sep=',', error_bad_lines=False, encoding = \"utf-8\").dropna()\n",
    "questionnaire_questions= pd.read_csv(DATA_FOLDER + questions_file, sep=',', error_bad_lines=False, encoding = \"utf-8\").dropna()"
   ]
  },
  {
   "cell_type": "code",
   "execution_count": 3,
   "metadata": {},
   "outputs": [
    {
     "data": {
      "text/html": [
       "<div>\n",
       "<style scoped>\n",
       "    .dataframe tbody tr th:only-of-type {\n",
       "        vertical-align: middle;\n",
       "    }\n",
       "\n",
       "    .dataframe tbody tr th {\n",
       "        vertical-align: top;\n",
       "    }\n",
       "\n",
       "    .dataframe thead th {\n",
       "        text-align: right;\n",
       "    }\n",
       "</style>\n",
       "<table border=\"1\" class=\"dataframe\">\n",
       "  <thead>\n",
       "    <tr style=\"text-align: right;\">\n",
       "      <th></th>\n",
       "      <th>questionnaire answer identifier</th>\n",
       "      <th>date</th>\n",
       "      <th>time</th>\n",
       "      <th>user identifier</th>\n",
       "      <th>question identifier</th>\n",
       "      <th>score of the answer</th>\n",
       "      <th>questionnaire identifier</th>\n",
       "    </tr>\n",
       "  </thead>\n",
       "  <tbody>\n",
       "    <tr>\n",
       "      <th>0</th>\n",
       "      <td>151</td>\n",
       "      <td>2018-05-07</td>\n",
       "      <td>14:30:46</td>\n",
       "      <td>114</td>\n",
       "      <td>1</td>\n",
       "      <td>7</td>\n",
       "      <td>1</td>\n",
       "    </tr>\n",
       "    <tr>\n",
       "      <th>1</th>\n",
       "      <td>152</td>\n",
       "      <td>2018-05-07</td>\n",
       "      <td>14:30:50</td>\n",
       "      <td>114</td>\n",
       "      <td>2</td>\n",
       "      <td>7</td>\n",
       "      <td>1</td>\n",
       "    </tr>\n",
       "    <tr>\n",
       "      <th>2</th>\n",
       "      <td>153</td>\n",
       "      <td>2018-05-07</td>\n",
       "      <td>14:30:54</td>\n",
       "      <td>114</td>\n",
       "      <td>3</td>\n",
       "      <td>7</td>\n",
       "      <td>1</td>\n",
       "    </tr>\n",
       "    <tr>\n",
       "      <th>3</th>\n",
       "      <td>154</td>\n",
       "      <td>2018-05-07</td>\n",
       "      <td>14:30:57</td>\n",
       "      <td>114</td>\n",
       "      <td>4</td>\n",
       "      <td>7</td>\n",
       "      <td>1</td>\n",
       "    </tr>\n",
       "    <tr>\n",
       "      <th>4</th>\n",
       "      <td>155</td>\n",
       "      <td>2018-05-07</td>\n",
       "      <td>14:31:05</td>\n",
       "      <td>114</td>\n",
       "      <td>5</td>\n",
       "      <td>7</td>\n",
       "      <td>1</td>\n",
       "    </tr>\n",
       "  </tbody>\n",
       "</table>\n",
       "</div>"
      ],
      "text/plain": [
       "   questionnaire answer identifier        date      time  user identifier  \\\n",
       "0                              151  2018-05-07  14:30:46              114   \n",
       "1                              152  2018-05-07  14:30:50              114   \n",
       "2                              153  2018-05-07  14:30:54              114   \n",
       "3                              154  2018-05-07  14:30:57              114   \n",
       "4                              155  2018-05-07  14:31:05              114   \n",
       "\n",
       "   question identifier  score of the answer  questionnaire identifier  \n",
       "0                    1                    7                         1  \n",
       "1                    2                    7                         1  \n",
       "2                    3                    7                         1  \n",
       "3                    4                    7                         1  \n",
       "4                    5                    7                         1  "
      ]
     },
     "execution_count": 3,
     "metadata": {},
     "output_type": "execute_result"
    }
   ],
   "source": [
    "questionnaire_answers.head()"
   ]
  },
  {
   "cell_type": "code",
   "execution_count": 4,
   "metadata": {},
   "outputs": [
    {
     "data": {
      "text/html": [
       "<div>\n",
       "<style scoped>\n",
       "    .dataframe tbody tr th:only-of-type {\n",
       "        vertical-align: middle;\n",
       "    }\n",
       "\n",
       "    .dataframe tbody tr th {\n",
       "        vertical-align: top;\n",
       "    }\n",
       "\n",
       "    .dataframe thead th {\n",
       "        text-align: right;\n",
       "    }\n",
       "</style>\n",
       "<table border=\"1\" class=\"dataframe\">\n",
       "  <thead>\n",
       "    <tr style=\"text-align: right;\">\n",
       "      <th></th>\n",
       "      <th>questionnaire identifier</th>\n",
       "      <th>user identifier</th>\n",
       "      <th>0</th>\n",
       "    </tr>\n",
       "  </thead>\n",
       "  <tbody>\n",
       "    <tr>\n",
       "      <th>0</th>\n",
       "      <td>1</td>\n",
       "      <td>114</td>\n",
       "      <td>12</td>\n",
       "    </tr>\n",
       "    <tr>\n",
       "      <th>1</th>\n",
       "      <td>1</td>\n",
       "      <td>316</td>\n",
       "      <td>1</td>\n",
       "    </tr>\n",
       "    <tr>\n",
       "      <th>2</th>\n",
       "      <td>1</td>\n",
       "      <td>321</td>\n",
       "      <td>12</td>\n",
       "    </tr>\n",
       "    <tr>\n",
       "      <th>3</th>\n",
       "      <td>1</td>\n",
       "      <td>325</td>\n",
       "      <td>12</td>\n",
       "    </tr>\n",
       "    <tr>\n",
       "      <th>4</th>\n",
       "      <td>1</td>\n",
       "      <td>327</td>\n",
       "      <td>12</td>\n",
       "    </tr>\n",
       "  </tbody>\n",
       "</table>\n",
       "</div>"
      ],
      "text/plain": [
       "   questionnaire identifier  user identifier   0\n",
       "0                         1              114  12\n",
       "1                         1              316   1\n",
       "2                         1              321  12\n",
       "3                         1              325  12\n",
       "4                         1              327  12"
      ]
     },
     "execution_count": 4,
     "metadata": {},
     "output_type": "execute_result"
    }
   ],
   "source": [
    "# Find the number of questions each user has answered per questionnaire\n",
    "questionnaire_users_df = questionnaire_answers.groupby(['questionnaire identifier', 'user identifier']).size().reset_index()\n",
    "questionnaire_users_df.head()"
   ]
  },
  {
   "cell_type": "code",
   "execution_count": 5,
   "metadata": {},
   "outputs": [
    {
     "data": {
      "text/html": [
       "<div>\n",
       "<style scoped>\n",
       "    .dataframe tbody tr th:only-of-type {\n",
       "        vertical-align: middle;\n",
       "    }\n",
       "\n",
       "    .dataframe tbody tr th {\n",
       "        vertical-align: top;\n",
       "    }\n",
       "\n",
       "    .dataframe thead th {\n",
       "        text-align: right;\n",
       "    }\n",
       "</style>\n",
       "<table border=\"1\" class=\"dataframe\">\n",
       "  <thead>\n",
       "    <tr style=\"text-align: right;\">\n",
       "      <th></th>\n",
       "      <th>question identifier</th>\n",
       "      <th>text</th>\n",
       "      <th>questionnaire identifier</th>\n",
       "    </tr>\n",
       "  </thead>\n",
       "  <tbody>\n",
       "    <tr>\n",
       "      <th>0</th>\n",
       "      <td>1</td>\n",
       "      <td>En classe, je manque souvent des points import...</td>\n",
       "      <td>1</td>\n",
       "    </tr>\n",
       "    <tr>\n",
       "      <th>1</th>\n",
       "      <td>2</td>\n",
       "      <td>Lorsque je lis un document pour ce cours, je p...</td>\n",
       "      <td>1</td>\n",
       "    </tr>\n",
       "    <tr>\n",
       "      <th>2</th>\n",
       "      <td>3</td>\n",
       "      <td>Lorsque je lis un document pour ce cours et qu...</td>\n",
       "      <td>1</td>\n",
       "    </tr>\n",
       "    <tr>\n",
       "      <th>3</th>\n",
       "      <td>4</td>\n",
       "      <td>Si les documents du cours sont difficiles à co...</td>\n",
       "      <td>1</td>\n",
       "    </tr>\n",
       "    <tr>\n",
       "      <th>4</th>\n",
       "      <td>5</td>\n",
       "      <td>Avant d’étudier un nouveau document du cours e...</td>\n",
       "      <td>1</td>\n",
       "    </tr>\n",
       "  </tbody>\n",
       "</table>\n",
       "</div>"
      ],
      "text/plain": [
       "   question identifier                                               text  \\\n",
       "0                    1  En classe, je manque souvent des points import...   \n",
       "1                    2  Lorsque je lis un document pour ce cours, je p...   \n",
       "2                    3  Lorsque je lis un document pour ce cours et qu...   \n",
       "3                    4  Si les documents du cours sont difficiles à co...   \n",
       "4                    5  Avant d’étudier un nouveau document du cours e...   \n",
       "\n",
       "   questionnaire identifier  \n",
       "0                         1  \n",
       "1                         1  \n",
       "2                         1  \n",
       "3                         1  \n",
       "4                         1  "
      ]
     },
     "execution_count": 5,
     "metadata": {},
     "output_type": "execute_result"
    }
   ],
   "source": [
    "questionnaire_questions.head()"
   ]
  },
  {
   "cell_type": "code",
   "execution_count": 19,
   "metadata": {},
   "outputs": [
    {
     "data": {
      "text/html": [
       "<div>\n",
       "<style scoped>\n",
       "    .dataframe tbody tr th:only-of-type {\n",
       "        vertical-align: middle;\n",
       "    }\n",
       "\n",
       "    .dataframe tbody tr th {\n",
       "        vertical-align: top;\n",
       "    }\n",
       "\n",
       "    .dataframe thead th {\n",
       "        text-align: right;\n",
       "    }\n",
       "</style>\n",
       "<table border=\"1\" class=\"dataframe\">\n",
       "  <thead>\n",
       "    <tr style=\"text-align: right;\">\n",
       "      <th></th>\n",
       "      <th>questionnaire identifier</th>\n",
       "      <th>0</th>\n",
       "    </tr>\n",
       "  </thead>\n",
       "  <tbody>\n",
       "    <tr>\n",
       "      <th>0</th>\n",
       "      <td>1</td>\n",
       "      <td>12</td>\n",
       "    </tr>\n",
       "    <tr>\n",
       "      <th>1</th>\n",
       "      <td>2</td>\n",
       "      <td>7</td>\n",
       "    </tr>\n",
       "    <tr>\n",
       "      <th>2</th>\n",
       "      <td>4</td>\n",
       "      <td>8</td>\n",
       "    </tr>\n",
       "    <tr>\n",
       "      <th>3</th>\n",
       "      <td>5</td>\n",
       "      <td>4</td>\n",
       "    </tr>\n",
       "    <tr>\n",
       "      <th>4</th>\n",
       "      <td>7</td>\n",
       "      <td>3</td>\n",
       "    </tr>\n",
       "    <tr>\n",
       "      <th>5</th>\n",
       "      <td>8</td>\n",
       "      <td>4</td>\n",
       "    </tr>\n",
       "    <tr>\n",
       "      <th>6</th>\n",
       "      <td>9</td>\n",
       "      <td>8</td>\n",
       "    </tr>\n",
       "    <tr>\n",
       "      <th>7</th>\n",
       "      <td>11</td>\n",
       "      <td>4</td>\n",
       "    </tr>\n",
       "    <tr>\n",
       "      <th>8</th>\n",
       "      <td>12</td>\n",
       "      <td>4</td>\n",
       "    </tr>\n",
       "    <tr>\n",
       "      <th>9</th>\n",
       "      <td>13</td>\n",
       "      <td>4</td>\n",
       "    </tr>\n",
       "    <tr>\n",
       "      <th>10</th>\n",
       "      <td>15</td>\n",
       "      <td>8</td>\n",
       "    </tr>\n",
       "    <tr>\n",
       "      <th>11</th>\n",
       "      <td>16</td>\n",
       "      <td>5</td>\n",
       "    </tr>\n",
       "    <tr>\n",
       "      <th>12</th>\n",
       "      <td>18</td>\n",
       "      <td>5</td>\n",
       "    </tr>\n",
       "    <tr>\n",
       "      <th>13</th>\n",
       "      <td>19</td>\n",
       "      <td>7</td>\n",
       "    </tr>\n",
       "    <tr>\n",
       "      <th>14</th>\n",
       "      <td>20</td>\n",
       "      <td>4</td>\n",
       "    </tr>\n",
       "    <tr>\n",
       "      <th>15</th>\n",
       "      <td>22</td>\n",
       "      <td>4</td>\n",
       "    </tr>\n",
       "    <tr>\n",
       "      <th>16</th>\n",
       "      <td>23</td>\n",
       "      <td>8</td>\n",
       "    </tr>\n",
       "    <tr>\n",
       "      <th>17</th>\n",
       "      <td>24</td>\n",
       "      <td>4</td>\n",
       "    </tr>\n",
       "    <tr>\n",
       "      <th>18</th>\n",
       "      <td>25</td>\n",
       "      <td>12</td>\n",
       "    </tr>\n",
       "  </tbody>\n",
       "</table>\n",
       "</div>"
      ],
      "text/plain": [
       "    questionnaire identifier   0\n",
       "0                          1  12\n",
       "1                          2   7\n",
       "2                          4   8\n",
       "3                          5   4\n",
       "4                          7   3\n",
       "5                          8   4\n",
       "6                          9   8\n",
       "7                         11   4\n",
       "8                         12   4\n",
       "9                         13   4\n",
       "10                        15   8\n",
       "11                        16   5\n",
       "12                        18   5\n",
       "13                        19   7\n",
       "14                        20   4\n",
       "15                        22   4\n",
       "16                        23   8\n",
       "17                        24   4\n",
       "18                        25  12"
      ]
     },
     "execution_count": 19,
     "metadata": {},
     "output_type": "execute_result"
    }
   ],
   "source": [
    "# Find the number of questions in each questionnaire\n",
    "questionnaire_questions_df = questionnaire_questions.groupby(['questionnaire identifier']).size().reset_index()\n",
    "questionnaire_questions_df\n"
   ]
  },
  {
   "cell_type": "code",
   "execution_count": 7,
   "metadata": {},
   "outputs": [
    {
     "name": "stdout",
     "output_type": "stream",
     "text": [
      "There are 66 incomplete questionnaire\n",
      "The 66 incomplete questionnaire were removed from the dataset\n"
     ]
    }
   ],
   "source": [
    "questionnaires_num = 25\n",
    "questions_num = []\n",
    "for i in range(questionnaires_num + 1):\n",
    "    try:\n",
    "        questions_num.append(int(questionnaire_questions_df.loc[questionnaire_questions_df['questionnaire identifier'] == i][0]))\n",
    "    except:\n",
    "        questions_num.append(0)\n",
    "        \n",
    "incomplete_questionnaire =[]\n",
    "for index, row in questionnaire_users_df.iterrows():\n",
    "    # Compare if \n",
    "    if row[0] != questions_num[row['questionnaire identifier']]:\n",
    "        incomplete_questionnaire.append(index)\n",
    "        \n",
    "print(\"There are {} incomplete questionnaire\".format(len(incomplete_questionnaire)))\n",
    "\n",
    "questionnaire_users_cp = questionnaire_users_df.copy()\n",
    "removed = 0\n",
    "for x in incomplete_questionnaire:\n",
    "    try:\n",
    "        questionnaire_users_cp = questionnaire_users_cp.drop(questionnaire_users_cp.index[x - removed])\n",
    "        removed += 1\n",
    "    except:\n",
    "        print(str(x) + \" not found\")\n",
    "\n",
    "print(\"The {} incomplete questionnaire were removed from the dataset\".format(removed))"
   ]
  },
  {
   "cell_type": "code",
   "execution_count": 8,
   "metadata": {},
   "outputs": [
    {
     "data": {
      "text/plain": [
       "questionnaire identifier\n",
       "11    460\n",
       "12    453\n",
       "13    452\n",
       "1     347\n",
       "2     248\n",
       "4     187\n",
       "5     186\n",
       "18    113\n",
       "20    112\n",
       "19    112\n",
       "9     105\n",
       "7     103\n",
       "8      99\n",
       "22     72\n",
       "24     69\n",
       "23     69\n",
       "16     50\n",
       "15     50\n",
       "25      5\n",
       "dtype: int64"
      ]
     },
     "execution_count": 8,
     "metadata": {},
     "output_type": "execute_result"
    }
   ],
   "source": [
    "# Find the number of completely filled questionnaires per questionnaire\n",
    "questionnaire_users_cp.groupby(['questionnaire identifier']).size().sort_values(ascending=False)"
   ]
  },
  {
   "cell_type": "code",
   "execution_count": 9,
   "metadata": {},
   "outputs": [
    {
     "data": {
      "text/html": [
       "<div>\n",
       "<style scoped>\n",
       "    .dataframe tbody tr th:only-of-type {\n",
       "        vertical-align: middle;\n",
       "    }\n",
       "\n",
       "    .dataframe tbody tr th {\n",
       "        vertical-align: top;\n",
       "    }\n",
       "\n",
       "    .dataframe thead th {\n",
       "        text-align: right;\n",
       "    }\n",
       "</style>\n",
       "<table border=\"1\" class=\"dataframe\">\n",
       "  <thead>\n",
       "    <tr style=\"text-align: right;\">\n",
       "      <th></th>\n",
       "      <th>questionnaire answer identifier</th>\n",
       "      <th>date</th>\n",
       "      <th>time</th>\n",
       "      <th>user identifier</th>\n",
       "      <th>question identifier</th>\n",
       "      <th>score of the answer</th>\n",
       "      <th>questionnaire identifier</th>\n",
       "    </tr>\n",
       "  </thead>\n",
       "  <tbody>\n",
       "    <tr>\n",
       "      <th>0</th>\n",
       "      <td>151</td>\n",
       "      <td>2018-05-07</td>\n",
       "      <td>14:30:46</td>\n",
       "      <td>114</td>\n",
       "      <td>1</td>\n",
       "      <td>7</td>\n",
       "      <td>1</td>\n",
       "    </tr>\n",
       "    <tr>\n",
       "      <th>1</th>\n",
       "      <td>152</td>\n",
       "      <td>2018-05-07</td>\n",
       "      <td>14:30:50</td>\n",
       "      <td>114</td>\n",
       "      <td>2</td>\n",
       "      <td>7</td>\n",
       "      <td>1</td>\n",
       "    </tr>\n",
       "    <tr>\n",
       "      <th>2</th>\n",
       "      <td>153</td>\n",
       "      <td>2018-05-07</td>\n",
       "      <td>14:30:54</td>\n",
       "      <td>114</td>\n",
       "      <td>3</td>\n",
       "      <td>7</td>\n",
       "      <td>1</td>\n",
       "    </tr>\n",
       "    <tr>\n",
       "      <th>3</th>\n",
       "      <td>154</td>\n",
       "      <td>2018-05-07</td>\n",
       "      <td>14:30:57</td>\n",
       "      <td>114</td>\n",
       "      <td>4</td>\n",
       "      <td>7</td>\n",
       "      <td>1</td>\n",
       "    </tr>\n",
       "    <tr>\n",
       "      <th>4</th>\n",
       "      <td>155</td>\n",
       "      <td>2018-05-07</td>\n",
       "      <td>14:31:05</td>\n",
       "      <td>114</td>\n",
       "      <td>5</td>\n",
       "      <td>7</td>\n",
       "      <td>1</td>\n",
       "    </tr>\n",
       "  </tbody>\n",
       "</table>\n",
       "</div>"
      ],
      "text/plain": [
       "   questionnaire answer identifier        date      time  user identifier  \\\n",
       "0                              151  2018-05-07  14:30:46              114   \n",
       "1                              152  2018-05-07  14:30:50              114   \n",
       "2                              153  2018-05-07  14:30:54              114   \n",
       "3                              154  2018-05-07  14:30:57              114   \n",
       "4                              155  2018-05-07  14:31:05              114   \n",
       "\n",
       "   question identifier  score of the answer  questionnaire identifier  \n",
       "0                    1                    7                         1  \n",
       "1                    2                    7                         1  \n",
       "2                    3                    7                         1  \n",
       "3                    4                    7                         1  \n",
       "4                    5                    7                         1  "
      ]
     },
     "execution_count": 9,
     "metadata": {},
     "output_type": "execute_result"
    }
   ],
   "source": [
    "questionnaire_answers.head()"
   ]
  },
  {
   "cell_type": "code",
   "execution_count": 10,
   "metadata": {},
   "outputs": [],
   "source": [
    "def CronbachAlpha(itemscores):\n",
    "    itemvars = itemscores.var(axis=1, ddof=1)\n",
    "    tscores = itemscores.sum(axis=0)\n",
    "    nitems = len(itemscores)\n",
    "\n",
    "    return nitems / (nitems-1.) * (1 - itemvars.sum() / tscores.var(ddof=1))"
   ]
  },
  {
   "cell_type": "code",
   "execution_count": 11,
   "metadata": {},
   "outputs": [],
   "source": [
    "def create_student_questions_matrix(df):\n",
    "    students = pd.Series(df['user identifier'], name='A').unique().tolist()\n",
    "    questions = pd.Series(df['question identifier'], name='A').unique().tolist()\n",
    "    students_questions = np.zeros(shape=(len(questions), len(students)))\n",
    "    \n",
    "    for index, row in df.iterrows():\n",
    "        s = students.index(row['user identifier'])\n",
    "        q = questions.index(row['question identifier'])\n",
    "        \n",
    "        students_questions[q][s] = row['score of the answer']\n",
    "    \n",
    "    return students_questions"
   ]
  },
  {
   "cell_type": "code",
   "execution_count": 12,
   "metadata": {},
   "outputs": [
    {
     "data": {
      "text/plain": [
       "array([[7., 3., 3., ..., 3., 6., 3.],\n",
       "       [7., 5., 1., ..., 2., 4., 2.],\n",
       "       [7., 6., 5., ..., 6., 7., 7.],\n",
       "       ...,\n",
       "       [0., 0., 0., ..., 0., 0., 0.],\n",
       "       [0., 0., 0., ..., 0., 0., 0.],\n",
       "       [0., 0., 0., ..., 0., 0., 0.]])"
      ]
     },
     "execution_count": 12,
     "metadata": {},
     "output_type": "execute_result"
    }
   ],
   "source": [
    "students_questions = create_student_questions_matrix(questionnaire_answers)\n",
    "students_questions"
   ]
  },
  {
   "cell_type": "code",
   "execution_count": 13,
   "metadata": {},
   "outputs": [
    {
     "data": {
      "text/plain": [
       "0.9766371248207409"
      ]
     },
     "execution_count": 13,
     "metadata": {},
     "output_type": "execute_result"
    }
   ],
   "source": [
    "CronbachAlpha(students_questions)"
   ]
  },
  {
   "cell_type": "markdown",
   "metadata": {},
   "source": [
    "# Per questionnaire\n"
   ]
  },
  {
   "cell_type": "code",
   "execution_count": 14,
   "metadata": {},
   "outputs": [
    {
     "data": {
      "text/plain": [
       "[1, 2, 4, 5, 7, 8, 11, 12, 13, 22, 23, 24, 18, 19, 20, 15, 16, 9, 25]"
      ]
     },
     "execution_count": 14,
     "metadata": {},
     "output_type": "execute_result"
    }
   ],
   "source": [
    "questionnaires = pd.Series(questionnaire_answers['questionnaire identifier'], name='A').unique().tolist()\n",
    "questionnaires"
   ]
  },
  {
   "cell_type": "code",
   "execution_count": 15,
   "metadata": {},
   "outputs": [],
   "source": [
    "questionnaires_CronbachAlpha = []\n",
    "\n",
    "for q in questionnaires:\n",
    "    c = CronbachAlpha(create_student_questions_matrix(questionnaire_answers[questionnaire_answers['questionnaire identifier'] == q]))\n",
    "    questionnaires_CronbachAlpha.append(c)"
   ]
  },
  {
   "cell_type": "code",
   "execution_count": 16,
   "metadata": {},
   "outputs": [
    {
     "name": "stdout",
     "output_type": "stream",
     "text": [
      "reliability of questionnaire 1 is 0.8689709750836196\n",
      "reliability of questionnaire 2 is 0.580399580124851\n",
      "reliability of questionnaire 4 is 0.7649848361130397\n",
      "reliability of questionnaire 5 is 0.7483906904142549\n",
      "reliability of questionnaire 7 is 0.37251548664158374\n",
      "reliability of questionnaire 8 is 0.614920377320215\n",
      "reliability of questionnaire 11 is 0.5297423133854757\n",
      "reliability of questionnaire 12 is 0.6608979593374414\n",
      "reliability of questionnaire 13 is -0.36924436369456226\n",
      "reliability of questionnaire 22 is 0.7355681629299287\n",
      "reliability of questionnaire 23 is 0.848671024265258\n",
      "reliability of questionnaire 24 is 0.6064659062935914\n",
      "reliability of questionnaire 18 is 0.7108593638168498\n",
      "reliability of questionnaire 19 is 0.7000261220021893\n",
      "reliability of questionnaire 20 is 0.6690401373719836\n",
      "reliability of questionnaire 15 is 0.9086912746919268\n",
      "reliability of questionnaire 16 is 0.8689867473651257\n",
      "reliability of questionnaire 9 is 0.4805951157441393\n",
      "reliability of questionnaire 25 is 0.815650172612198\n"
     ]
    }
   ],
   "source": [
    "for i in range(len(questionnaires)):\n",
    "    print(\"reliability of questionnaire {} is {}\".format(questionnaires[i],questionnaires_CronbachAlpha[i]))"
   ]
  },
  {
   "cell_type": "code",
   "execution_count": null,
   "metadata": {},
   "outputs": [],
   "source": []
  },
  {
   "cell_type": "markdown",
   "metadata": {},
   "source": [
    "# Self regulation"
   ]
  },
  {
   "cell_type": "code",
   "execution_count": 17,
   "metadata": {},
   "outputs": [
    {
     "name": "stdout",
     "output_type": "stream",
     "text": [
      "q 104=> mean:4.8, std:1.6431676725154984\n",
      "q 105=> mean:4.2, std:1.3038404810405297\n",
      "q 106=> mean:6.4, std:1.3416407864998738\n",
      "q 107=> mean:3.8, std:2.16794833886788\n",
      "q 108=> mean:5.8, std:1.6431676725154984\n",
      "q 109=> mean:5.6, std:1.51657508881031\n",
      "q 110=> mean:5.6, std:1.1401754250991378\n",
      "q 111=> mean:4.2, std:2.16794833886788\n",
      "q 112=> mean:5.6, std:0.5477225575051662\n",
      "q 113=> mean:6.2, std:0.8366600265340756\n",
      "q 114=> mean:5.2, std:1.7888543819998317\n",
      "q 115=> mean:5.6, std:1.9493588689617927\n"
     ]
    }
   ],
   "source": [
    "self_regulation_questions = range(104,116)\n",
    "\n",
    "for q in self_regulation_questions:\n",
    "    print(\"q \"+ str(q) +\"=> mean:\" + str(questionnaire_answers[questionnaire_answers['question identifier'] == q]['score of the answer'].mean()) + \", std:\" + str(questionnaire_answers[questionnaire_answers['question identifier'] == q]['score of the answer'].std()))"
   ]
  },
  {
   "cell_type": "markdown",
   "metadata": {},
   "source": [
    "# PCA\n"
   ]
  },
  {
   "cell_type": "markdown",
   "metadata": {},
   "source": [
    "#### Questionnaire 14"
   ]
  },
  {
   "cell_type": "code",
   "execution_count": 18,
   "metadata": {},
   "outputs": [],
   "source": [
    "import numpy as np\n",
    "from sklearn.decomposition import PCA"
   ]
  },
  {
   "cell_type": "code",
   "execution_count": 39,
   "metadata": {},
   "outputs": [],
   "source": [
    "pca_2 = PCA(n_components=2)"
   ]
  },
  {
   "cell_type": "code",
   "execution_count": 54,
   "metadata": {},
   "outputs": [],
   "source": [
    "df15 = questionnaire_answers[questionnaire_answers['questionnaire identifier'] == 15]"
   ]
  },
  {
   "cell_type": "code",
   "execution_count": 41,
   "metadata": {},
   "outputs": [],
   "source": [
    "df16 = questionnaire_answers[questionnaire_answers['questionnaire identifier'] == 16]"
   ]
  },
  {
   "cell_type": "code",
   "execution_count": 42,
   "metadata": {},
   "outputs": [],
   "source": [
    "df_row_reindex = pd.concat([df15, df16], ignore_index=True)"
   ]
  },
  {
   "cell_type": "code",
   "execution_count": 43,
   "metadata": {},
   "outputs": [
    {
     "data": {
      "text/plain": [
       "PCA(copy=True, iterated_power='auto', n_components=2, random_state=None,\n",
       "  svd_solver='auto', tol=0.0, whiten=False)"
      ]
     },
     "execution_count": 43,
     "metadata": {},
     "output_type": "execute_result"
    }
   ],
   "source": [
    "q14_data = create_student_questions_matrix(df_row_reindex)\n",
    "pca_2.fit(q14_data) "
   ]
  },
  {
   "cell_type": "code",
   "execution_count": 44,
   "metadata": {},
   "outputs": [
    {
     "name": "stdout",
     "output_type": "stream",
     "text": [
      "[0.30363272 0.16690825]\n"
     ]
    }
   ],
   "source": [
    "print(pca_2.explained_variance_ratio_)"
   ]
  },
  {
   "cell_type": "code",
   "execution_count": 45,
   "metadata": {},
   "outputs": [
    {
     "name": "stdout",
     "output_type": "stream",
     "text": [
      "[19.83939084 14.70933222]\n"
     ]
    }
   ],
   "source": [
    "print(pca_2.singular_values_)  "
   ]
  },
  {
   "cell_type": "code",
   "execution_count": 55,
   "metadata": {},
   "outputs": [
    {
     "data": {
      "text/plain": [
       "PCA(copy=True, iterated_power='auto', n_components=2, random_state=None,\n",
       "  svd_solver='auto', tol=0.0, whiten=False)"
      ]
     },
     "execution_count": 55,
     "metadata": {},
     "output_type": "execute_result"
    }
   ],
   "source": [
    "pca_2"
   ]
  },
  {
   "cell_type": "code",
   "execution_count": 51,
   "metadata": {},
   "outputs": [
    {
     "data": {
      "text/plain": [
       "array([[6., 7., 7., 6., 7., 5., 7., 1., 6., 6., 7., 1., 7., 6., 4., 5.,\n",
       "        5., 7., 5., 7., 7., 5., 7., 2., 7., 7., 7., 5., 6., 6., 1., 6.,\n",
       "        7., 5., 5., 7., 5., 5., 3., 7., 5., 7., 6., 7., 1., 7., 5., 7.,\n",
       "        7., 7., 4., 7.],\n",
       "       [3., 7., 6., 5., 5., 7., 4., 2., 6., 5., 5., 1., 7., 5., 5., 4.,\n",
       "        6., 1., 4., 7., 4., 7., 4., 2., 6., 6., 7., 6., 5., 5., 2., 4.,\n",
       "        6., 6., 5., 6., 5., 5., 2., 6., 5., 3., 0., 5., 1., 4., 3., 7.,\n",
       "        7., 3., 5., 4.],\n",
       "       [7., 7., 7., 6., 6., 5., 7., 6., 6., 7., 7., 2., 7., 6., 5., 6.,\n",
       "        7., 7., 6., 7., 7., 7., 7., 5., 7., 7., 7., 6., 7., 6., 4., 7.,\n",
       "        7., 7., 7., 7., 5., 6., 5., 6., 6., 7., 0., 4., 4., 6., 5., 7.,\n",
       "        7., 7., 6., 5.],\n",
       "       [5., 7., 5., 5., 5., 5., 6., 2., 6., 5., 7., 1., 7., 2., 1., 1.,\n",
       "        7., 7., 6., 7., 6., 6., 4., 3., 7., 6., 7., 5., 2., 6., 3., 6.,\n",
       "        7., 4., 5., 7., 2., 3., 4., 5., 2., 7., 0., 4., 1., 6., 6., 7.,\n",
       "        5., 5., 4., 1.],\n",
       "       [6., 7., 5., 7., 6., 4., 6., 6., 6., 7., 5., 1., 7., 1., 3., 2.,\n",
       "        5., 7., 6., 7., 7., 5., 7., 3., 7., 7., 7., 7., 7., 5., 5., 6.,\n",
       "        7., 5., 6., 7., 4., 5., 4., 6., 5., 6., 0., 4., 1., 7., 6., 7.,\n",
       "        7., 7., 6., 6.],\n",
       "       [7., 4., 7., 4., 1., 5., 6., 5., 6., 7., 7., 1., 7., 2., 2., 3.,\n",
       "        6., 7., 4., 6., 5., 3., 6., 2., 7., 7., 5., 5., 6., 2., 3., 3.,\n",
       "        7., 2., 4., 7., 3., 5., 2., 6., 6., 4., 0., 4., 1., 6., 6., 7.,\n",
       "        4., 7., 5., 6.],\n",
       "       [0., 6., 7., 6., 6., 5., 3., 6., 6., 6., 7., 2., 7., 2., 4., 4.,\n",
       "        5., 7., 7., 7., 7., 3., 5., 6., 6., 7., 7., 6., 6., 5., 4., 6.,\n",
       "        7., 6., 5., 7., 5., 7., 5., 7., 6., 7., 0., 4., 3., 7., 6., 7.,\n",
       "        7., 7., 6., 7.],\n",
       "       [0., 6., 6., 6., 5., 6., 4., 5., 6., 6., 7., 1., 7., 2., 3., 6.,\n",
       "        1., 7., 6., 6., 7., 5., 6., 3., 7., 7., 7., 5., 6., 6., 3., 2.,\n",
       "        7., 6., 7., 7., 5., 4., 5., 6., 6., 6., 0., 4., 1., 7., 6., 7.,\n",
       "        7., 5., 7., 6.],\n",
       "       [0., 6., 4., 6., 5., 6., 5., 2., 6., 6., 7., 1., 4., 6., 5., 2.,\n",
       "        7., 7., 6., 6., 5., 6., 7., 5., 5., 2., 3., 5., 7., 6., 2., 5.,\n",
       "        7., 6., 3., 6., 6., 5., 4., 6., 5., 7., 0., 4., 6., 3., 5., 7.,\n",
       "        4., 4., 2., 4.],\n",
       "       [0., 6., 4., 6., 6., 6., 6., 2., 6., 6., 7., 1., 6., 7., 5., 4.,\n",
       "        7., 7., 6., 6., 6., 5., 7., 5., 7., 2., 3., 5., 7., 6., 2., 5.,\n",
       "        7., 5., 4., 6., 6., 5., 4., 6., 5., 7., 0., 4., 6., 3., 4., 7.,\n",
       "        6., 4., 2., 6.],\n",
       "       [0., 7., 4., 6., 4., 7., 7., 2., 6., 7., 7., 1., 7., 4., 5., 6.,\n",
       "        7., 7., 7., 5., 7., 7., 7., 7., 7., 6., 7., 7., 7., 6., 3., 7.,\n",
       "        7., 6., 4., 6., 6., 4., 4., 6., 5., 5., 0., 7., 6., 3., 5., 7.,\n",
       "        7., 6., 3., 6.],\n",
       "       [0., 4., 4., 6., 6., 5., 6., 2., 6., 7., 5., 1., 7., 1., 4., 5.,\n",
       "        7., 7., 7., 4., 5., 3., 7., 7., 5., 4., 7., 5., 6., 4., 2., 6.,\n",
       "        6., 4., 2., 5., 6., 5., 4., 6., 2., 3., 0., 7., 1., 3., 4., 7.,\n",
       "        5., 5., 3., 3.],\n",
       "       [0., 1., 3., 5., 5., 7., 7., 2., 6., 5., 7., 1., 4., 2., 3., 3.,\n",
       "        7., 7., 5., 6., 3., 2., 7., 5., 1., 3., 4., 5., 7., 2., 3., 3.,\n",
       "        6., 5., 4., 6., 4., 4., 2., 6., 2., 7., 0., 7., 5., 3., 3., 7.,\n",
       "        5., 3., 3., 6.]])"
      ]
     },
     "execution_count": 51,
     "metadata": {},
     "output_type": "execute_result"
    }
   ],
   "source": [
    "q14_data"
   ]
  },
  {
   "cell_type": "code",
   "execution_count": 59,
   "metadata": {},
   "outputs": [
    {
     "data": {
      "text/plain": [
       "array([[-4.73707846, -2.06655004],\n",
       "       [-0.44502587,  1.5593591 ],\n",
       "       [-5.51397601, -5.36535428],\n",
       "       [-2.90207658,  4.87751618],\n",
       "       [-6.79256204,  0.74401163],\n",
       "       [-4.51872935,  7.53873306],\n",
       "       [-3.22815161, -2.46247463],\n",
       "       [-4.51127569, -0.73815656],\n",
       "       [ 7.53918097, -2.54050638],\n",
       "       [ 6.45054807, -4.24085706],\n",
       "       [ 3.39810904, -5.54074039],\n",
       "       [ 5.58582988,  2.69559012],\n",
       "       [ 9.67520764,  5.53942925]])"
      ]
     },
     "execution_count": 59,
     "metadata": {},
     "output_type": "execute_result"
    }
   ],
   "source": [
    "q14_transformed = PCA(n_components=2).fit_transform(q14_data)\n",
    "q14_transformed"
   ]
  },
  {
   "cell_type": "code",
   "execution_count": 87,
   "metadata": {},
   "outputs": [
    {
     "data": {
      "image/png": "[encoded data removed]",
      "text/plain": [
       "<Figure size 432x288 with 1 Axes>"
      ]
     },
     "metadata": {
      "needs_background": "light"
     },
     "output_type": "display_data"
    }
   ],
   "source": [
    "import matplotlib.pyplot as plt\n",
    "color = [1,1,1,1,1,1,1,1,0,0,0,0,0]\n",
    "\n",
    "plt.scatter(q14_transformed[:,0],q14_transformed[:,1] ,c=color)\n",
    "color_q10 = [\"blue\",\"blue\",\"blue\",\"blue\",\"blue\",\"blue\",\"blue\",\"blue\",\"red\",\"red\",\"red\",\"red\",\"red\"]\n",
    "\n",
    "red_patch = mpatches.Patch(color='red', label='subquestionnaire 16')\n",
    "blue_patch = mpatches.Patch(color='blue', label='subquestionnaire 15')\n",
    "\n",
    "\n",
    "plt.scatter(q14_transformed[:,0],q14_transformed[:,1] ,c=color_q10)\n",
    "plt.legend(handles=[blue_patch,red_patch])\n",
    "plt.show()\n",
    "\n",
    "plt.show()"
   ]
  },
  {
   "cell_type": "code",
   "execution_count": null,
   "metadata": {},
   "outputs": [],
   "source": []
  },
  {
   "cell_type": "code",
   "execution_count": null,
   "metadata": {},
   "outputs": [],
   "source": []
  },
  {
   "cell_type": "code",
   "execution_count": null,
   "metadata": {},
   "outputs": [],
   "source": []
  },
  {
   "cell_type": "markdown",
   "metadata": {},
   "source": [
    "#### Questionnaire 10"
   ]
  },
  {
   "cell_type": "code",
   "execution_count": 20,
   "metadata": {},
   "outputs": [],
   "source": [
    "# Create a Covariance Matrix\n",
    "questions_num = 12\n",
    "pca_3 = PCA(n_components=questions_num)"
   ]
  },
  {
   "cell_type": "code",
   "execution_count": 21,
   "metadata": {},
   "outputs": [],
   "source": [
    "df11 = questionnaire_answers[questionnaire_answers['questionnaire identifier'] == 11]\n",
    "df12 = questionnaire_answers[questionnaire_answers['questionnaire identifier'] == 12]\n",
    "df13 = questionnaire_answers[questionnaire_answers['questionnaire identifier'] == 13]"
   ]
  },
  {
   "cell_type": "code",
   "execution_count": 22,
   "metadata": {},
   "outputs": [
    {
     "data": {
      "text/plain": [
       "PCA(copy=True, iterated_power='auto', n_components=12, random_state=None,\n",
       "  svd_solver='auto', tol=0.0, whiten=False)"
      ]
     },
     "execution_count": 22,
     "metadata": {},
     "output_type": "execute_result"
    }
   ],
   "source": [
    "df_11_12 = pd.concat([df11, df12], ignore_index=True)\n",
    "df_11_12_13 = pd.concat([df_11_12, df13], ignore_index=True)\n",
    "\n",
    "q10_data = create_student_questions_matrix(df_11_12_13)\n",
    "\n",
    "# Calculate Eigenvalues\n",
    "pca_3.fit(q10_data) "
   ]
  },
  {
   "cell_type": "code",
   "execution_count": 25,
   "metadata": {},
   "outputs": [
    {
     "name": "stdout",
     "output_type": "stream",
     "text": [
      "[2.87321983e-01 1.32180581e-01 1.10164344e-01 9.71748642e-02\n",
      " 7.37631255e-02 7.11644348e-02 6.01869396e-02 5.39350175e-02\n",
      " 4.52293489e-02 4.06733208e-02 2.82060401e-02 6.60971581e-32]\n"
     ]
    },
    {
     "data": {
      "text/plain": [
       "array([28.7, 41.9, 52.9, 62.6, 70. , 77.1, 83.1, 88.5, 93. , 97.1, 99.9,\n",
       "       99.9])"
      ]
     },
     "execution_count": 25,
     "metadata": {},
     "output_type": "execute_result"
    }
   ],
   "source": [
    "# calculate variance ratios\n",
    "print(pca_3.explained_variance_ratio_)\n",
    "\n",
    "var=np.cumsum(np.round(pca_3.explained_variance_ratio_, decimals=3)*100)\n",
    "var #cumulative sum of variance explained with [n] features"
   ]
  },
  {
   "cell_type": "code",
   "execution_count": 42,
   "metadata": {},
   "outputs": [
    {
     "data": {
      "text/plain": [
       "[<matplotlib.lines.Line2D at 0x117e60908>]"
      ]
     },
     "execution_count": 42,
     "metadata": {},
     "output_type": "execute_result"
    },
    {
     "data": {
      "image/png": "[encoded data removed]",
      "text/plain": [
       "<Figure size 432x288 with 1 Axes>"
      ]
     },
     "metadata": {
      "needs_background": "light"
     },
     "output_type": "display_data"
    }
   ],
   "source": [
    "plt.ylabel('% Variance Explained')\n",
    "plt.xlabel('# of components')\n",
    "plt.title('PCA Analysis')\n",
    "plt.ylim(25,100.5)\n",
    "plt.style.context('seaborn-whitegrid')\n",
    "\n",
    "\n",
    "plt.plot(range(1,13),var)"
   ]
  },
  {
   "cell_type": "code",
   "execution_count": 37,
   "metadata": {},
   "outputs": [
    {
     "data": {
      "text/plain": [
       "<BarContainer object of 12 artists>"
      ]
     },
     "execution_count": 37,
     "metadata": {},
     "output_type": "execute_result"
    },
    {
     "data": {
      "image/png": "[encoded data removed]",
      "text/plain": [
       "<Figure size 432x288 with 1 Axes>"
      ]
     },
     "metadata": {
      "needs_background": "light"
     },
     "output_type": "display_data"
    }
   ],
   "source": [
    "plt.bar(range(1,13),pca_3.explained_variance_ratio_)"
   ]
  },
  {
   "cell_type": "code",
   "execution_count": 24,
   "metadata": {},
   "outputs": [
    {
     "name": "stdout",
     "output_type": "stream",
     "text": [
      "[6.62154482e+01 4.49116203e+01 4.10010918e+01 3.85080801e+01\n",
      " 3.35501565e+01 3.29538680e+01 3.03058190e+01 2.86886629e+01\n",
      " 2.62715117e+01 2.49132113e+01 2.07465532e+01 3.17589612e-14]\n"
     ]
    }
   ],
   "source": [
    "print(pca_3.singular_values_)  "
   ]
  },
  {
   "cell_type": "code",
   "execution_count": 43,
   "metadata": {},
   "outputs": [
    {
     "data": {
      "text/plain": [
       "[<matplotlib.lines.Line2D at 0x117f93f98>]"
      ]
     },
     "execution_count": 43,
     "metadata": {},
     "output_type": "execute_result"
    },
    {
     "data": {
      "image/png": "[encoded data removed]",
      "text/plain": [
       "<Figure size 432x288 with 1 Axes>"
      ]
     },
     "metadata": {
      "needs_background": "light"
     },
     "output_type": "display_data"
    }
   ],
   "source": [
    "plt.ylabel('Singular values')\n",
    "plt.xlabel('Number of components')\n",
    "plt.title('PCA Analysis - Scree Plot')\n",
    "plt.style.context('seaborn-whitegrid')\n",
    "\n",
    "\n",
    "plt.plot(range(1,13),pca_3.singular_values_)"
   ]
  },
  {
   "cell_type": "code",
   "execution_count": 79,
   "metadata": {},
   "outputs": [
    {
     "data": {
      "text/plain": [
       "array([[-13.77362156,  -3.58021614],\n",
       "       [-23.36081431,  -7.08280217],\n",
       "       [-22.34516269,  -6.0135721 ],\n",
       "       [ -6.23864064,  -9.25668928],\n",
       "       [ 21.93185814,  23.16199337],\n",
       "       [ 20.75347701,  13.05378889],\n",
       "       [  6.54458539,  11.30267253],\n",
       "       [  0.93144176,   9.38711823],\n",
       "       [-21.0717171 ,   4.92063746],\n",
       "       [-15.13863154,   5.44757223],\n",
       "       [ 17.44893111, -19.94045201],\n",
       "       [ 34.31829443, -21.400051  ]])"
      ]
     },
     "execution_count": 79,
     "metadata": {},
     "output_type": "execute_result"
    }
   ],
   "source": [
    "q10_transformed = PCA(n_components=2).fit_transform(q10_data)\n",
    "q10_transformed"
   ]
  },
  {
   "cell_type": "code",
   "execution_count": 81,
   "metadata": {},
   "outputs": [
    {
     "data": {
      "image/png": "[encoded data removed]",
      "text/plain": [
       "<Figure size 432x288 with 1 Axes>"
      ]
     },
     "metadata": {
      "needs_background": "light"
     },
     "output_type": "display_data"
    }
   ],
   "source": [
    "color_q10 = ['red','red','red','red','blue','blue','blue','blue','green','green','green','green']\n",
    "color_label = ['','sub_questionnaire 12','sub_questionnaire 11','purple']\n",
    "\n",
    "plt.scatter(q10_transformed[:,0],q10_transformed[:,1] ,c=color_q10)\n",
    "red_patch = mpatches.Patch(color='red', label='subquestionnaire 11')\n",
    "blue_patch = mpatches.Patch(color='blue', label='subquestionnaire 12')\n",
    "green_patch = mpatches.Patch(color='green', label='subquestionnaire 13')\n",
    "\n",
    "plt.legend(handles=[red_patch,blue_patch,green_patch])\n",
    "plt.show()"
   ]
  },
  {
   "cell_type": "code",
   "execution_count": null,
   "metadata": {},
   "outputs": [],
   "source": [
    "q10_transformed"
   ]
  },
  {
   "cell_type": "code",
   "execution_count": null,
   "metadata": {},
   "outputs": [],
   "source": []
  }
 ],
 "metadata": {
  "kernelspec": {
   "display_name": "Python 3",
   "language": "python",
   "name": "python3"
  },
  "language_info": {
   "codemirror_mode": {
    "name": "ipython",
    "version": 3
   },
   "file_extension": ".py",
   "mimetype": "text/x-python",
   "name": "python",
   "nbconvert_exporter": "python",
   "pygments_lexer": "ipython3",
   "version": "3.6.6"
  }
 },
 "nbformat": 4,
 "nbformat_minor": 2
}
